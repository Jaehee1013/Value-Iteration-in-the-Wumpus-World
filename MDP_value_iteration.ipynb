{
 "cells": [
  {
   "cell_type": "markdown",
   "metadata": {},
   "source": [
    "# Code for solving the Wumpus World problem"
   ]
  },
  {
   "cell_type": "code",
   "execution_count": 3,
   "metadata": {},
   "outputs": [],
   "source": [
    "import numpy as np"
   ]
  },
  {
   "cell_type": "code",
   "execution_count": 4,
   "metadata": {},
   "outputs": [],
   "source": [
    "# Helper function to get the next state\n",
    "def get_next_state(s, action, grid_size):\n",
    "    if action == 'UP':\n",
    "        return max(s - grid_size, 0)\n",
    "    elif action == 'DOWN':\n",
    "        return min(s + grid_size, grid_size**2 - 1)\n",
    "    elif action == 'LEFT':\n",
    "        return s if s % grid_size == 0 else s - 1\n",
    "    elif action == 'RIGHT':\n",
    "        return s if (s + 1) % grid_size == 0 else s + 1\n",
    "    return s"
   ]
  },
  {
   "cell_type": "code",
   "execution_count": 23,
   "metadata": {},
   "outputs": [],
   "source": [
    "# Value Iteration Function, Students need to implement the following loop\n",
    "def MDP_value_iteration(S, A, P, R, gamma, eta, max_iter):\n",
    "    # Input: S, A, P, R, gamma, eta, max_iter\n",
    "    # S: set of states, stored as a list of integers\n",
    "    # A: set of actions, stored as a list of strings, e.g. ['UP', 'DOWN', 'LEFT', 'RIGHT']\n",
    "    # P: transition probabilities matrix, stored as a 3D numpy array, P[s',s,a] = P(s'|s,a)\n",
    "    # R: reward function, stored as a 1D numpy array, R[s] = R(s)\n",
    "    # gamma: discount factor\n",
    "    # eta: convergence factor\n",
    "    # max_iter: maximum number of iterations\n",
    "    # Initialize the utilities for each state as zeros\n",
    "    U = np.zeros(len(S))\n",
    "\n",
    "    for i in range(max_iter):\n",
    "        # Create a copy of the current utility values\n",
    "        U_prev = U.copy()\n",
    "        \n",
    "        # Iterate over all states in S\n",
    "        for s in S:\n",
    "            # TODO: Update the utility U[s]\n",
    "            #action_utilities = []\n",
    "           # max_utility = -float('inf')\n",
    "            #max_utility = -float('inf')\n",
    "            #for a in A:\n",
    "             #   action_utility = sum(P[s][a][s_prime] * U_prev[s_prime] for s_prime in S)\n",
    "              #  max_utility = max(max_utility, action_utility)\n",
    "            \n",
    "            action_utilities = [sum(P[s][a].get(s_prime, 0) * U_prev[s_prime] for s_prime in S) for a in A]\n",
    "            U[s] = R[s] + gamma * max(action_utilities)  # Corrected line\n",
    "            \n",
    "            # Hints:\n",
    "            # 1. Calculate the sum of utilities for each action a in A\n",
    "            # 2. Use the Bellman equation: R[s] + gamma * max(sum(P(s'|s,a) * U_prev[s']) for each a in A)\n",
    "            # 3. P(s'|s,a) is the probability of transitioning to state s' from state s given action a\n",
    "            # 4. U_prev[s'] is the utility of the state s' from the previous iteration\n",
    "        \n",
    "        # Check for convergence\n",
    "        # TODO: Break the loop if the maximum change in utility values across all states is less than eta\n",
    "        # Hints:\n",
    "        # 1. Find the maximum absolute change in utilities\n",
    "        # 2. Compare this value with eta\n",
    "        #max_change = max(abs(U_prev[s] - U[s]) for s in S)\n",
    "        if all(abs(U[s] - U_prev[s]) < eta for s in S):\n",
    "            break\n",
    "        \n",
    "    # Return the final utilities\n",
    "    return U\n",
    "\n",
    "# Policy Generation Function\n",
    "def MDP_policy(S, A, P, U):\n",
    "    # policy[s] is the best action to take in state s, firstly set it to 0 for all states\n",
    "    policy = np.zeros(len(S), dtype=int)\n",
    "    # Iterate over all states in S\n",
    "    \n",
    "    for s in S:\n",
    "        # TODO: Update the policy for the current state s\n",
    "        # Hints: Given the current utility values U, read off the best action to take in state s \n",
    "        max_action_utility = -np.inf\n",
    "        max_action = None\n",
    "        for a in A:\n",
    "            action_utilities = []\n",
    "            for s_prime in S:\n",
    "                R = P[s][a].get(s_prime, 0) * U[s_prime]\n",
    "                action_utilities.append(R)\n",
    "        #policy[s] = np.argmax(action_utilities)\n",
    "            action_utility = sum(action_utilities)\n",
    "            if action_utility > max_action_utility:\n",
    "                max_action_utility = action_utility\n",
    "                max_action = a\n",
    "\n",
    "        policy[s] = A.index(max_action)\n",
    "        \n",
    "    return policy\n",
    "\n"
   ]
  },
  {
   "cell_type": "code",
   "execution_count": 27,
   "metadata": {},
   "outputs": [
    {
     "name": "stdout",
     "output_type": "stream",
     "text": [
      "Utilities and Policy for the Given Wumpus World:\n",
      "40.16 → | 46.89 → | 55.51 → | 66.63 → | \n",
      "36.41 → | 42.24 → | 48.96 → | 57.02 ↑ | \n",
      "31.90 → | 36.19 ↑ | 37.77 ↑ | 48.32 ↑ | \n",
      "33.90 ↓ | 24.61 ↓ | 27.96 ↑ | 40.46 ↑ | \n"
     ]
    }
   ],
   "source": [
    "# Define the Wumpus world\n",
    "grid_size = 4  # 4x4 grid\n",
    "S = range(grid_size**2)  # States\n",
    "A = ['RIGHT', 'LEFT', 'DOWN', 'UP']  # Actions\n",
    "\n",
    "# Define the transition probabilities with stochastic movement\n",
    "# P[s][a][s'] = P(s'|s,a)\n",
    "P = {s: {a: {} for a in A} for s in S}\n",
    "for s in S:\n",
    "    for a in A:\n",
    "        intended_state = get_next_state(s, a, grid_size)\n",
    "        P[s][a][intended_state] = 0.8\n",
    "        if a in ['LEFT', 'RIGHT']:\n",
    "            P[s][a][get_next_state(s, 'UP', grid_size)] = 0.1\n",
    "            P[s][a][get_next_state(s, 'DOWN', grid_size)] = 0.1\n",
    "        else:\n",
    "            P[s][a][get_next_state(s, 'LEFT', grid_size)] = 0.1\n",
    "            P[s][a][get_next_state(s, 'RIGHT', grid_size)] = 0.1\n",
    "\n",
    "# Define the rewards for each state\n",
    "R = [-0.4] * 16\n",
    "R[3] = 10   # Gold\n",
    "R[10] = -5  # Pit\n",
    "R[14] = -5  # Pit\n",
    "R[13] = -10 # Wumpus\n",
    "\n",
    "# Run value iteration\n",
    "gamma = 0.9\n",
    "eta = 0.1\n",
    "max_iter = 10000\n",
    "U = MDP_value_iteration(S, A, P, R, gamma, eta, max_iter)\n",
    "\n",
    "# Policy representation for printing\n",
    "policy_repr = {0: '→', 1: '←', 2: '↓', 3: '↑'} \n",
    "\n",
    "# Generate policy\n",
    "policy = MDP_policy(S, A, P, U)\n",
    "\n",
    "# Print utilities and policy in a 4x4 grid\n",
    "print(\"Utilities and Policy for the Given Wumpus World:\")\n",
    "for i in range(grid_size):\n",
    "    for j in range(grid_size):\n",
    "        state = i * grid_size + j\n",
    "        print(f\"{U[state]:.2f} {policy_repr[policy[state]]}\", end=\" | \")\n",
    "    print()"
   ]
  },
  {
   "cell_type": "code",
   "execution_count": null,
   "metadata": {},
   "outputs": [],
   "source": []
  },
  {
   "cell_type": "code",
   "execution_count": null,
   "metadata": {},
   "outputs": [],
   "source": []
  },
  {
   "cell_type": "code",
   "execution_count": null,
   "metadata": {},
   "outputs": [],
   "source": []
  }
 ],
 "metadata": {
  "kernelspec": {
   "display_name": "Python 3 (ipykernel)",
   "language": "python",
   "name": "python3"
  },
  "language_info": {
   "codemirror_mode": {
    "name": "ipython",
    "version": 3
   },
   "file_extension": ".py",
   "mimetype": "text/x-python",
   "name": "python",
   "nbconvert_exporter": "python",
   "pygments_lexer": "ipython3",
   "version": "3.11.5"
  }
 },
 "nbformat": 4,
 "nbformat_minor": 4
}
